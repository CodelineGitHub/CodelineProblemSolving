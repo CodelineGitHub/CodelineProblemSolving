{
 "cells": [
  {
   "cell_type": "code",
   "execution_count": null,
   "id": "f42289b5",
   "metadata": {},
   "outputs": [],
   "source": [
    "import math\n",
    "import re\n",
    "    \n",
    "    #Q3:\n",
    "    def display_menu():\n",
    "        print(\"Menu:\")\n",
    "        print(\"Display a right-angle triangle of ones\")\n",
    "        print(\"Display a Palindromic Triangle\")\n",
    "        print(\"Help\")\n",
    "        print(\"Exit\")\n",
    "    \n",
    "    def display_tr(rows):\n",
    "        for i in range(1,rows+1):\n",
    "            print('1'*i)\n",
    "        \n",
    "    def display_pt(rows):\n",
    "        for i in range(1,rows+1):\n",
    "            line=''.join(str(j) for j in range(1,i +1))\n",
    "            line=''.join(str(j)for j in range(i - 1,0 -1))\n",
    "            print(line)\n",
    "    def display_help(rows):\n",
    "        print(\"Display a right-angle triangle of ones\")\n",
    "        print(\"Display a Palindromic Triangle\")\n",
    "        print(\"A Palindromic Triangle is a triangular array ef munbers where each row forms a palindrome.\")\n",
    "        print(\"The first few Lines of a Palindromic Triangle are:\",1,11,121,12321,1234321,\"You can use this pattern to draw a Palindromic Triangle for ay miner of lines.\")\n",
    "    def main():\n",
    "        while True:\n",
    "            display_menu()\n",
    "            choise= input(\"Enter your choise (1-4)\")\n",
    "            \n",
    "            if choise =='1':\n",
    "                rows = int(input(\"Enter  the number of rows for the right-angle triangle:\"))\n",
    "            elif choise =='2':\n",
    "                rows = int(input(\"Enter the number of rows for the palindromic triangle: \"))\n",
    "                display_pt(rows)\n",
    "            elif choise =='3':\n",
    "                display_help()\n",
    "            elif choise =='4':\n",
    "                print(\"Exiting the program.\")\n",
    "                break\n",
    "            else:\n",
    "                print(\"invalid choise.please enter a number from 1 to 4.\")\n",
    "                \n",
    "            if __name__ == \"__main__\":\n",
    "                main()"
   ]
  }
 ],
 "metadata": {
  "kernelspec": {
   "display_name": "Python 3 (ipykernel)",
   "language": "python",
   "name": "python3"
  },
  "language_info": {
   "codemirror_mode": {
    "name": "ipython",
    "version": 3
   },
   "file_extension": ".py",
   "mimetype": "text/x-python",
   "name": "python",
   "nbconvert_exporter": "python",
   "pygments_lexer": "ipython3",
   "version": "3.11.5"
  }
 },
 "nbformat": 4,
 "nbformat_minor": 5
}
