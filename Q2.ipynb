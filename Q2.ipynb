{
 "cells": [
  {
   "cell_type": "code",
   "execution_count": null,
   "id": "fc65ef6c",
   "metadata": {},
   "outputs": [],
   "source": [
    "#Q2:\n",
    "    def DecimalToBinary(dnum):\n",
    "    if dnum==0:\n",
    "        return \"0\"\n",
    "    bnum == ''\n",
    "    while dnum >0:\n",
    "        remaider= dnum%2\n",
    "        bnum=str(remaider)+bnum\n",
    "        dnum = dnum//2\n",
    "    return bnum        \n",
    "dnum= 4    \n",
    "binary_equivalent =  DecimalToBinary(dnum)\n",
    "print(f\"the binary equivalent of {dnum}is:{binary_equivalent}\")"
   ]
  }
 ],
 "metadata": {
  "kernelspec": {
   "display_name": "Python 3 (ipykernel)",
   "language": "python",
   "name": "python3"
  },
  "language_info": {
   "codemirror_mode": {
    "name": "ipython",
    "version": 3
   },
   "file_extension": ".py",
   "mimetype": "text/x-python",
   "name": "python",
   "nbconvert_exporter": "python",
   "pygments_lexer": "ipython3",
   "version": "3.11.5"
  }
 },
 "nbformat": 4,
 "nbformat_minor": 5
}
