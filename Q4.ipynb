{
 "cells": [
  {
   "cell_type": "code",
   "execution_count": null,
   "id": "c174681c",
   "metadata": {},
   "outputs": [],
   "source": [
    " ##Q4:  \n",
    "    \n",
    "    def even_num(input_list):\n",
    "        even = [num **2 for num in input_list if num % 2 == 0]\n",
    "        return even\n",
    "    \n",
    "    def slice_list(input_list,start_idx,end_idx):\n",
    "        if start_idx < 0 or end_idx > len(input_list) or start_indx >= end_idx:\n",
    "            return None\n",
    "        \n",
    "        sliced_list = input_list[start_idx:end_idx]\n",
    "        return sliced_list\n",
    "    def main():\n",
    "        numbers =[1,2,3,4,5,6,7,8,9]\n",
    "        print(\"list\",numbers)\n",
    "        \n",
    "        #task1\n",
    "        even =even_num(numbers)\n",
    "        print(\"even number:\",even)\n",
    "        \n",
    "        #task2\n",
    "        start_idx=2\n",
    "        end_idx= 7\n",
    "        sliced_list= slice_list(numbers,start_idx,end_idx)\n",
    "        if sliced_list is not None:\n",
    "            print(f\"sliced list from index {start_idx} to {end_idx}:\",sliced_list)\n",
    "        else:\n",
    "            print(\"invalid slice.\")\n",
    "            \n",
    "        if __name__==\"__main__\":\n",
    "            main()"
   ]
  }
 ],
 "metadata": {
  "kernelspec": {
   "display_name": "Python 3 (ipykernel)",
   "language": "python",
   "name": "python3"
  },
  "language_info": {
   "codemirror_mode": {
    "name": "ipython",
    "version": 3
   },
   "file_extension": ".py",
   "mimetype": "text/x-python",
   "name": "python",
   "nbconvert_exporter": "python",
   "pygments_lexer": "ipython3",
   "version": "3.11.5"
  }
 },
 "nbformat": 4,
 "nbformat_minor": 5
}
